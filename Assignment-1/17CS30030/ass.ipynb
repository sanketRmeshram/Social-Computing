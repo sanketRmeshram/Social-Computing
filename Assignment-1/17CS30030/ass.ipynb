{
 "cells": [
  {
   "cell_type": "code",
   "execution_count": 1,
   "metadata": {},
   "outputs": [],
   "source": [
    "import snap\n",
    "Rnd = snap.TRnd(42)\n",
    "Rnd.Randomize()"
   ]
  },
  {
   "cell_type": "code",
   "execution_count": 2,
   "metadata": {},
   "outputs": [],
   "source": [
    "import sys\n",
    "\n",
    "import snap\n",
    "Rnd = snap.TRnd(42)\n",
    "Rnd.Randomize()\n",
    "\n",
    "def list_of_edge_from_file(file_name):\n",
    "    edge_file = open(\"subgraphs/\" + file_name)\n",
    "    edges=[]\n",
    "    while True : \n",
    "        line = edge_file.readline()\n",
    "        if len(line) == 0 :\n",
    "            break\n",
    "        a,b = [int(node) for node in line.split()]\n",
    "        edges.append([a,b])\n",
    "    return edges\n",
    "\n",
    "def make_snap_graph(edges) :\n",
    "    nodes=[]\n",
    "    for i in edges:\n",
    "        nodes.append(i[0])\n",
    "        nodes.append(i[1])\n",
    "    nodes = set(nodes)\n",
    "    graph = snap.TUNGraph.New()\n",
    "    for node in nodes :\n",
    "        graph.AddNode(node)\n",
    "    for i in edges : \n",
    "        graph.AddEdge(i[0],i[1])\n",
    "    return graph \n",
    "\n",
    "def nodes_with_highest_degree(graph) :\n",
    "    mx_deg=max([ node.GetDeg() for node in graph.Nodes()])\n",
    "    return [node.GetId() for node in graph.Nodes() if node.GetDeg() == mx_deg]"
   ]
  },
  {
   "cell_type": "code",
   "execution_count": 3,
   "metadata": {},
   "outputs": [],
   "source": [
    "file_name = \"facebook.elist\"\n",
    "subgraph_name=file_name.split('.')[0]\n",
    "graph = make_snap_graph( list_of_edge_from_file(file_name) )"
   ]
  },
  {
   "cell_type": "code",
   "execution_count": 4,
   "metadata": {
    "tags": []
   },
   "outputs": [
    {
     "output_type": "stream",
     "name": "stdout",
     "text": "Number of nodes: 3213\n"
    }
   ],
   "source": [
    "print(\"Number of nodes:\",graph.GetNodes())"
   ]
  },
  {
   "cell_type": "code",
   "execution_count": null,
   "metadata": {},
   "outputs": [],
   "source": []
  }
 ],
 "metadata": {
  "language_info": {
   "codemirror_mode": {
    "name": "ipython",
    "version": 3
   },
   "file_extension": ".py",
   "mimetype": "text/x-python",
   "name": "python",
   "nbconvert_exporter": "python",
   "pygments_lexer": "ipython3",
   "version": 3
  },
  "orig_nbformat": 2,
  "kernelspec": {
   "name": "python_defaultSpec_1600331991325",
   "display_name": "Python 3.7.7 64-bit ('data_science': conda)"
  }
 },
 "nbformat": 4,
 "nbformat_minor": 2
}