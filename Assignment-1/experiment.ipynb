{
 "cells": [
  {
   "cell_type": "code",
   "execution_count": 1,
   "metadata": {},
   "outputs": [],
   "source": [
    "import snap\n",
    "Rnd = snap.TRnd(42)\n",
    "Rnd.Randomize()"
   ]
  },
  {
   "cell_type": "code",
   "execution_count": 11,
   "metadata": {
    "tags": []
   },
   "outputs": [],
   "source": [
    "facebook=open(\"facebook_combined.txt/facebook_combined.txt\")\n",
    "facebook_sub=open(\"17CS30030/subgraphs/facebook.elist\",\"w\")\n",
    "while True :\n",
    "    line=facebook.readline()\n",
    "    if len(line) ==0 :\n",
    "        break\n",
    "    a,b=[int(i) for i in line.split()]\n",
    "    if a%5!=0 and b%5!=0 :\n",
    "        print(a,b,file=facebook_sub)\n"
   ]
  },
  {
   "cell_type": "code",
   "execution_count": 15,
   "metadata": {},
   "outputs": [],
   "source": [
    "twitter=open(\"twitter_combined.txt/twitter_combined.txt\")\n",
    "twitter_sub=open(\"17CS30030/subgraphs/twitter.elist\",\"w\")\n",
    "while True :\n",
    "    line=twitter.readline()\n",
    "    if len(line) ==0 :\n",
    "        break\n",
    "    a,b=[int(i) for i in line.split()]\n",
    "    # print(a,b)\n",
    "    if a%4==0 and b%4==0 :\n",
    "        print(a,b,file=twitter_sub)\n"
   ]
  },
  {
   "cell_type": "code",
   "execution_count": null,
   "metadata": {},
   "outputs": [],
   "source": []
  }
 ],
 "metadata": {
  "language_info": {
   "codemirror_mode": {
    "name": "ipython",
    "version": 3
   },
   "file_extension": ".py",
   "mimetype": "text/x-python",
   "name": "python",
   "nbconvert_exporter": "python",
   "pygments_lexer": "ipython3",
   "version": "3.7.7-final"
  },
  "orig_nbformat": 2,
  "kernelspec": {
   "name": "python_defaultSpec_1600329796810",
   "display_name": "Python 3.7.7 64-bit ('data_science': conda)"
  }
 },
 "nbformat": 4,
 "nbformat_minor": 2
}